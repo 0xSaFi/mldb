{
 "cells": [
  {
   "cell_type": "markdown",
   "metadata": {},
   "source": [
    "# Recommending Movies\n",
    "\n",
    "The [MovieLens 20M](http://files.grouplens.org/datasets/movielens/ml-20m-README.html) dataset contains 20 million user ratings from 1 to 5 of thousands of movies. In this demo we'll build a simple recommendation system which will use this data to suggest 25 movies based on a seed movie you provide."
   ]
  },
  {
   "cell_type": "markdown",
   "metadata": {},
   "source": [
    "The notebook cells below use `pymldb`'s `Connection` class to make [REST API](/doc/#builtin/WorkingWithRest.md.html) calls. You can check out the [Using `pymldb` Tutorial](/doc/nblink.html#_tutorials/Using pymldb Tutorial) for more details."
   ]
  },
  {
   "cell_type": "code",
   "execution_count": 13,
   "metadata": {
    "collapsed": false
   },
   "outputs": [],
   "source": [
    "from pymldb import Connection\n",
    "mldb = Connection()"
   ]
  },
  {
   "cell_type": "markdown",
   "metadata": {},
   "source": [
    "## Download the MovieLens 20M data\n",
    "\n",
    "We'll start by using some command-line tools to download and decompress the data."
   ]
  },
  {
   "cell_type": "code",
   "execution_count": 2,
   "metadata": {
    "collapsed": false
   },
   "outputs": [
    {
     "name": "stdout",
     "output_type": "stream",
     "text": [
      "Archive:  /mldb_data/data/ml-20m.zip\n",
      "   creating: /mldb_data/data/ml-20m/\n",
      "  inflating: /mldb_data/data/ml-20m/links.csv  \n",
      "  inflating: /mldb_data/data/ml-20m/movies.csv  \n",
      "  inflating: /mldb_data/data/ml-20m/ratings.csv  \n",
      "  inflating: /mldb_data/data/ml-20m/README.txt  \n",
      "  inflating: /mldb_data/data/ml-20m/tags.csv  \n"
     ]
    }
   ],
   "source": [
    "%%bash\n",
    "mkdir -p /mldb_data/data\n",
    "curl \"http://files.grouplens.org/datasets/movielens/ml-20m.zip\" 2>/dev/null  > /mldb_data/data/ml-20m.zip\n",
    "unzip /mldb_data/data/ml-20m.zip -d /mldb_data/data"
   ]
  },
  {
   "cell_type": "code",
   "execution_count": 3,
   "metadata": {
    "collapsed": false,
    "scrolled": true
   },
   "outputs": [
    {
     "name": "stdout",
     "output_type": "stream",
     "text": [
      "Summary\n",
      "=======\n",
      "\n",
      "This dataset (ml-20m) describes 5-star rating and free-text tagging activity from [MovieLens](http://movielens.org), a movie recommendation service. It contains 20000263 ratings and 465564 tag applications across 27278 movies. These data were created by 138493 users between January 09, 1995 and March 31, 2015. This dataset was generated on March 31, 2015.\n",
      "\n",
      "Users were selected at random for inclusion. All selected users had rated at least 20 movies. No demographic information is included. Each user is represented by an id, and no other information is provided.\n",
      "\n",
      "The data are contained in four files, `links.csv`, `movies.csv`, `ratings.csv` and `tags.csv`. More details about the contents and use of all these files follows.\n",
      "\n",
      "This and other GroupLens data sets are publicly available for download at <http://grouplens.org/datasets/>.\n"
     ]
    }
   ],
   "source": [
    "%%bash\n",
    "head /mldb_data/data/ml-20m/README.txt"
   ]
  },
  {
   "cell_type": "code",
   "execution_count": 4,
   "metadata": {
    "collapsed": false
   },
   "outputs": [
    {
     "name": "stdout",
     "output_type": "stream",
     "text": [
      "userId,movieId,rating,timestamp\r\n",
      "1,2,3.5,1112486027\r\n",
      "1,29,3.5,1112484676\r\n",
      "1,32,3.5,1112484819\r\n",
      "1,47,3.5,1112484727\r\n",
      "1,50,3.5,1112484580\r\n",
      "1,112,3.5,1094785740\r\n",
      "1,151,4.0,1094785734\r\n",
      "1,223,4.0,1112485573\r\n",
      "1,253,4.0,1112484940\r\n"
     ]
    }
   ],
   "source": [
    "%%bash\n",
    "head /mldb_data/data/ml-20m/ratings.csv"
   ]
  },
  {
   "cell_type": "markdown",
   "metadata": {},
   "source": [
    "## Load the data into MLDB\n",
    "\n",
    "See the [Loading Data Tutorial](/doc/nblink.html#_tutorials/Loading Data Tutorial) guide for more details on how to get data into MLDB. "
   ]
  },
  {
   "cell_type": "code",
   "execution_count": 5,
   "metadata": {
    "collapsed": false
   },
   "outputs": [
    {
     "data": {
      "text/html": [
       "<strong>POST http://localhost/v1/procedures</strong><br /><strong style=\"color: green;\">201 Created</strong><br /> <div class=\"highlight\"><pre style=\"line-height: 125%\">{\n",
       "  <span style=\"color: #333333; font-weight: bold\">&quot;status&quot;</span>: {\n",
       "    <span style=\"color: #333333; font-weight: bold\">&quot;firstRun&quot;</span>: {\n",
       "      <span style=\"color: #333333; font-weight: bold\">&quot;runStarted&quot;</span>: <span style=\"color: #0000dd\">&quot;2016-01-26T17:53:06.787746Z&quot;</span>, \n",
       "      <span style=\"color: #333333; font-weight: bold\">&quot;status&quot;</span>: {\n",
       "        <span style=\"color: #333333; font-weight: bold\">&quot;columnCount&quot;</span>: <span style=\"color: #0000dd\">138493</span>, \n",
       "        <span style=\"color: #333333; font-weight: bold\">&quot;rowCount&quot;</span>: <span style=\"color: #0000dd\">138493</span>, \n",
       "        <span style=\"color: #333333; font-weight: bold\">&quot;valueCount&quot;</span>: <span style=\"color: #0000dd\">138493</span>\n",
       "      }, \n",
       "      <span style=\"color: #333333; font-weight: bold\">&quot;runFinished&quot;</span>: <span style=\"color: #0000dd\">&quot;2016-01-26T17:56:25.5734951Z&quot;</span>, \n",
       "      <span style=\"color: #333333; font-weight: bold\">&quot;id&quot;</span>: <span style=\"color: #0000dd\">&quot;2016-01-26T17:53:06.787670Z-5bc7042b732cb41f&quot;</span>, \n",
       "      <span style=\"color: #333333; font-weight: bold\">&quot;state&quot;</span>: <span style=\"color: #0000dd\">&quot;finished&quot;</span>\n",
       "    }\n",
       "  }, \n",
       "  <span style=\"color: #333333; font-weight: bold\">&quot;config&quot;</span>: {\n",
       "    <span style=\"color: #333333; font-weight: bold\">&quot;params&quot;</span>: {\n",
       "      <span style=\"color: #333333; font-weight: bold\">&quot;outputDataset&quot;</span>: <span style=\"color: #0000dd\">&quot;mvlns_ratings&quot;</span>, \n",
       "      <span style=\"color: #333333; font-weight: bold\">&quot;inputData&quot;</span>: <span style=\"color: #0000dd\">&quot;select pivot(movieId, rating) as * named userId from mvlns_ratings_csv group by userId&quot;</span>, \n",
       "      <span style=\"color: #333333; font-weight: bold\">&quot;runOnCreation&quot;</span>: <span style=\"color: #0000dd\">true</span>\n",
       "    }, \n",
       "    <span style=\"color: #333333; font-weight: bold\">&quot;type&quot;</span>: <span style=\"color: #0000dd\">&quot;transform&quot;</span>, \n",
       "    <span style=\"color: #333333; font-weight: bold\">&quot;id&quot;</span>: <span style=\"color: #0000dd\">&quot;mvlns_import&quot;</span>\n",
       "  }, \n",
       "  <span style=\"color: #333333; font-weight: bold\">&quot;state&quot;</span>: <span style=\"color: #0000dd\">&quot;ok&quot;</span>, \n",
       "  <span style=\"color: #333333; font-weight: bold\">&quot;type&quot;</span>: <span style=\"color: #0000dd\">&quot;transform&quot;</span>, \n",
       "  <span style=\"color: #333333; font-weight: bold\">&quot;id&quot;</span>: <span style=\"color: #0000dd\">&quot;mvlns_import&quot;</span>\n",
       "}\n",
       "</pre></div>\n"
      ],
      "text/plain": [
       "<Response [201]>"
      ]
     },
     "execution_count": 5,
     "metadata": {},
     "output_type": "execute_result"
    }
   ],
   "source": [
    "mldb.put('/v1/datasets/mvlns_ratings_csv', {\n",
    "    \"type\":\"text.csv.tabular\", \n",
    "    \"params\": {\"dataFileUrl\":\"file:///mldb_data/data/ml-20m/ratings.csv\"}\n",
    "})\n",
    "\n",
    "mldb.post('/v1/procedures', {\n",
    "    \"id\":\"mvlns_import\",\n",
    "    \"type\": \"transform\",\n",
    "    \"params\": {\n",
    "        \"inputData\": \"select pivot(movieId, rating) as * named userId from mvlns_ratings_csv group by userId\",\n",
    "        \"outputDataset\": \"mvlns_ratings\",\n",
    "        \"runOnCreation\": True\n",
    "    }\n",
    "})"
   ]
  },
  {
   "cell_type": "markdown",
   "metadata": {},
   "source": [
    "## Take a peek at the dataset\n",
    "\n",
    "We'll use the [Query API](/doc/#builtin/sql/QueryAPI.md.html)."
   ]
  },
  {
   "cell_type": "code",
   "execution_count": 6,
   "metadata": {
    "collapsed": false
   },
   "outputs": [
    {
     "data": {
      "text/html": [
       "<div>\n",
       "<table border=\"1\" class=\"dataframe\">\n",
       "  <thead>\n",
       "    <tr style=\"text-align: right;\">\n",
       "      <th></th>\n",
       "      <th>1</th>\n",
       "      <th>3</th>\n",
       "      <th>5</th>\n",
       "      <th>6</th>\n",
       "      <th>7</th>\n",
       "      <th>9</th>\n",
       "      <th>17</th>\n",
       "      <th>25</th>\n",
       "      <th>32</th>\n",
       "      <th>36</th>\n",
       "      <th>...</th>\n",
       "      <th>368</th>\n",
       "      <th>370</th>\n",
       "      <th>419</th>\n",
       "      <th>454</th>\n",
       "      <th>468</th>\n",
       "      <th>474</th>\n",
       "      <th>485</th>\n",
       "      <th>520</th>\n",
       "      <th>543</th>\n",
       "      <th>778</th>\n",
       "    </tr>\n",
       "    <tr>\n",
       "      <th>_rowName</th>\n",
       "      <th></th>\n",
       "      <th></th>\n",
       "      <th></th>\n",
       "      <th></th>\n",
       "      <th></th>\n",
       "      <th></th>\n",
       "      <th></th>\n",
       "      <th></th>\n",
       "      <th></th>\n",
       "      <th></th>\n",
       "      <th></th>\n",
       "      <th></th>\n",
       "      <th></th>\n",
       "      <th></th>\n",
       "      <th></th>\n",
       "      <th></th>\n",
       "      <th></th>\n",
       "      <th></th>\n",
       "      <th></th>\n",
       "      <th></th>\n",
       "      <th></th>\n",
       "    </tr>\n",
       "  </thead>\n",
       "  <tbody>\n",
       "    <tr>\n",
       "      <th>56641</th>\n",
       "      <td>4</td>\n",
       "      <td>3</td>\n",
       "      <td>3</td>\n",
       "      <td>2</td>\n",
       "      <td>1</td>\n",
       "      <td>4</td>\n",
       "      <td>1</td>\n",
       "      <td>1</td>\n",
       "      <td>3</td>\n",
       "      <td>3</td>\n",
       "      <td>...</td>\n",
       "      <td>NaN</td>\n",
       "      <td>NaN</td>\n",
       "      <td>NaN</td>\n",
       "      <td>NaN</td>\n",
       "      <td>NaN</td>\n",
       "      <td>NaN</td>\n",
       "      <td>NaN</td>\n",
       "      <td>NaN</td>\n",
       "      <td>NaN</td>\n",
       "      <td>NaN</td>\n",
       "    </tr>\n",
       "    <tr>\n",
       "      <th>118850</th>\n",
       "      <td>NaN</td>\n",
       "      <td>NaN</td>\n",
       "      <td>NaN</td>\n",
       "      <td>NaN</td>\n",
       "      <td>NaN</td>\n",
       "      <td>NaN</td>\n",
       "      <td>NaN</td>\n",
       "      <td>NaN</td>\n",
       "      <td>4</td>\n",
       "      <td>NaN</td>\n",
       "      <td>...</td>\n",
       "      <td>NaN</td>\n",
       "      <td>NaN</td>\n",
       "      <td>NaN</td>\n",
       "      <td>NaN</td>\n",
       "      <td>NaN</td>\n",
       "      <td>NaN</td>\n",
       "      <td>NaN</td>\n",
       "      <td>NaN</td>\n",
       "      <td>NaN</td>\n",
       "      <td>NaN</td>\n",
       "    </tr>\n",
       "    <tr>\n",
       "      <th>79822</th>\n",
       "      <td>NaN</td>\n",
       "      <td>NaN</td>\n",
       "      <td>NaN</td>\n",
       "      <td>NaN</td>\n",
       "      <td>NaN</td>\n",
       "      <td>NaN</td>\n",
       "      <td>NaN</td>\n",
       "      <td>NaN</td>\n",
       "      <td>NaN</td>\n",
       "      <td>NaN</td>\n",
       "      <td>...</td>\n",
       "      <td>NaN</td>\n",
       "      <td>NaN</td>\n",
       "      <td>NaN</td>\n",
       "      <td>NaN</td>\n",
       "      <td>NaN</td>\n",
       "      <td>NaN</td>\n",
       "      <td>NaN</td>\n",
       "      <td>NaN</td>\n",
       "      <td>NaN</td>\n",
       "      <td>NaN</td>\n",
       "    </tr>\n",
       "    <tr>\n",
       "      <th>105445</th>\n",
       "      <td>3</td>\n",
       "      <td>NaN</td>\n",
       "      <td>NaN</td>\n",
       "      <td>NaN</td>\n",
       "      <td>NaN</td>\n",
       "      <td>NaN</td>\n",
       "      <td>NaN</td>\n",
       "      <td>NaN</td>\n",
       "      <td>NaN</td>\n",
       "      <td>NaN</td>\n",
       "      <td>...</td>\n",
       "      <td>NaN</td>\n",
       "      <td>NaN</td>\n",
       "      <td>NaN</td>\n",
       "      <td>NaN</td>\n",
       "      <td>NaN</td>\n",
       "      <td>NaN</td>\n",
       "      <td>NaN</td>\n",
       "      <td>NaN</td>\n",
       "      <td>NaN</td>\n",
       "      <td>NaN</td>\n",
       "    </tr>\n",
       "    <tr>\n",
       "      <th>54666</th>\n",
       "      <td>NaN</td>\n",
       "      <td>NaN</td>\n",
       "      <td>NaN</td>\n",
       "      <td>5</td>\n",
       "      <td>NaN</td>\n",
       "      <td>NaN</td>\n",
       "      <td>NaN</td>\n",
       "      <td>NaN</td>\n",
       "      <td>NaN</td>\n",
       "      <td>NaN</td>\n",
       "      <td>...</td>\n",
       "      <td>5</td>\n",
       "      <td>3</td>\n",
       "      <td>3</td>\n",
       "      <td>4</td>\n",
       "      <td>4</td>\n",
       "      <td>4</td>\n",
       "      <td>3</td>\n",
       "      <td>2</td>\n",
       "      <td>3</td>\n",
       "      <td>4</td>\n",
       "    </tr>\n",
       "  </tbody>\n",
       "</table>\n",
       "<p>5 rows × 146 columns</p>\n",
       "</div>"
      ],
      "text/plain": [
       "           1   3   5   6   7   9  17  25  32  36 ...   368  370  419  454  \\\n",
       "_rowName                                         ...                        \n",
       "56641      4   3   3   2   1   4   1   1   3   3 ...   NaN  NaN  NaN  NaN   \n",
       "118850   NaN NaN NaN NaN NaN NaN NaN NaN   4 NaN ...   NaN  NaN  NaN  NaN   \n",
       "79822    NaN NaN NaN NaN NaN NaN NaN NaN NaN NaN ...   NaN  NaN  NaN  NaN   \n",
       "105445     3 NaN NaN NaN NaN NaN NaN NaN NaN NaN ...   NaN  NaN  NaN  NaN   \n",
       "54666    NaN NaN NaN   5 NaN NaN NaN NaN NaN NaN ...     5    3    3    4   \n",
       "\n",
       "          468  474  485  520  543  778  \n",
       "_rowName                                \n",
       "56641     NaN  NaN  NaN  NaN  NaN  NaN  \n",
       "118850    NaN  NaN  NaN  NaN  NaN  NaN  \n",
       "79822     NaN  NaN  NaN  NaN  NaN  NaN  \n",
       "105445    NaN  NaN  NaN  NaN  NaN  NaN  \n",
       "54666       4    4    3    2    3    4  \n",
       "\n",
       "[5 rows x 146 columns]"
      ]
     },
     "execution_count": 6,
     "metadata": {},
     "output_type": "execute_result"
    }
   ],
   "source": [
    "mldb.query(\"select * from mvlns_ratings limit 5\")"
   ]
  },
  {
   "cell_type": "markdown",
   "metadata": {},
   "source": [
    "## Singular Value Decomposition (SVD)\n",
    "\n",
    "We will create and run a [Procedure](/doc/#builtin/procedures/Procedures.md.html) of type [`svd.train`](/doc/#builtin/procedures/Svd.md.html)."
   ]
  },
  {
   "cell_type": "code",
   "execution_count": 7,
   "metadata": {
    "collapsed": false
   },
   "outputs": [
    {
     "data": {
      "text/html": [
       "<strong>PUT http://localhost/v1/procedures/mvlns_svd</strong><br /><strong style=\"color: green;\">201 Created</strong><br /> <div class=\"highlight\"><pre style=\"line-height: 125%\">{\n",
       "  <span style=\"color: #333333; font-weight: bold\">&quot;status&quot;</span>: {\n",
       "    <span style=\"color: #333333; font-weight: bold\">&quot;firstRun&quot;</span>: {\n",
       "      <span style=\"color: #333333; font-weight: bold\">&quot;runStarted&quot;</span>: <span style=\"color: #0000dd\">&quot;2016-01-26T17:56:25.8751526Z&quot;</span>, \n",
       "      <span style=\"color: #333333; font-weight: bold\">&quot;runFinished&quot;</span>: <span style=\"color: #0000dd\">&quot;2016-01-26T17:57:56.699662Z&quot;</span>, \n",
       "      <span style=\"color: #333333; font-weight: bold\">&quot;id&quot;</span>: <span style=\"color: #0000dd\">&quot;2016-01-26T17:56:25.875089Z-5bc7042b732cb41f&quot;</span>, \n",
       "      <span style=\"color: #333333; font-weight: bold\">&quot;state&quot;</span>: <span style=\"color: #0000dd\">&quot;finished&quot;</span>\n",
       "    }\n",
       "  }, \n",
       "  <span style=\"color: #333333; font-weight: bold\">&quot;config&quot;</span>: {\n",
       "    <span style=\"color: #333333; font-weight: bold\">&quot;params&quot;</span>: {\n",
       "      <span style=\"color: #333333; font-weight: bold\">&quot;columnOutputDataset&quot;</span>: <span style=\"color: #0000dd\">&quot;mvlns_svd_embedding&quot;</span>, \n",
       "      <span style=\"color: #333333; font-weight: bold\">&quot;modelFileUrl&quot;</span>: <span style=\"color: #0000dd\">&quot;file://models/mvlns.svd&quot;</span>, \n",
       "      <span style=\"color: #333333; font-weight: bold\">&quot;functionName&quot;</span>: <span style=\"color: #0000dd\">&quot;mvlns_svd_embedder&quot;</span>, \n",
       "      <span style=\"color: #333333; font-weight: bold\">&quot;runOnCreation&quot;</span>: <span style=\"color: #0000dd\">true</span>, \n",
       "      <span style=\"color: #333333; font-weight: bold\">&quot;trainingData&quot;</span>: <span style=\"color: #0000dd\">&quot;select COLUMN EXPR (where rowCount() &gt; 3) from mvlns_ratings&quot;</span>\n",
       "    }, \n",
       "    <span style=\"color: #333333; font-weight: bold\">&quot;type&quot;</span>: <span style=\"color: #0000dd\">&quot;svd.train&quot;</span>, \n",
       "    <span style=\"color: #333333; font-weight: bold\">&quot;id&quot;</span>: <span style=\"color: #0000dd\">&quot;mvlns_svd&quot;</span>\n",
       "  }, \n",
       "  <span style=\"color: #333333; font-weight: bold\">&quot;state&quot;</span>: <span style=\"color: #0000dd\">&quot;ok&quot;</span>, \n",
       "  <span style=\"color: #333333; font-weight: bold\">&quot;type&quot;</span>: <span style=\"color: #0000dd\">&quot;svd.train&quot;</span>, \n",
       "  <span style=\"color: #333333; font-weight: bold\">&quot;id&quot;</span>: <span style=\"color: #0000dd\">&quot;mvlns_svd&quot;</span>\n",
       "}\n",
       "</pre></div>\n"
      ],
      "text/plain": [
       "<Response [201]>"
      ]
     },
     "execution_count": 7,
     "metadata": {},
     "output_type": "execute_result"
    }
   ],
   "source": [
    "mldb.put('/v1/procedures/mvlns_svd', {\n",
    "    \"type\" : \"svd.train\",\n",
    "    \"params\" : {\n",
    "        \"trainingData\" : \"select COLUMN EXPR (where rowCount() > 3) from mvlns_ratings\",\n",
    "        \"columnOutputDataset\" : \"mvlns_svd_embedding\",\n",
    "        \"modelFileUrl\": \"file://models/mvlns.svd\",\n",
    "        \"functionName\": \"mvlns_svd_embedder\",\n",
    "        \"runOnCreation\": True\n",
    "    }\n",
    "})"
   ]
  },
  {
   "cell_type": "markdown",
   "metadata": {
    "collapsed": false
   },
   "source": [
    "## Explore the results!\n",
    "\n",
    "Our dataset has `movieId`s but humans think about movie names, and in order to display movie posters, we will need IMDB IDs so we'll load up some metadata tables."
   ]
  },
  {
   "cell_type": "code",
   "execution_count": 8,
   "metadata": {
    "collapsed": false
   },
   "outputs": [
    {
     "data": {
      "text/html": [
       "<div>\n",
       "<table border=\"1\" class=\"dataframe\">\n",
       "  <thead>\n",
       "    <tr style=\"text-align: right;\">\n",
       "      <th></th>\n",
       "      <th>title</th>\n",
       "      <th>genres</th>\n",
       "      <th>imdbId</th>\n",
       "      <th>tmdbId</th>\n",
       "    </tr>\n",
       "    <tr>\n",
       "      <th>movieId</th>\n",
       "      <th></th>\n",
       "      <th></th>\n",
       "      <th></th>\n",
       "      <th></th>\n",
       "    </tr>\n",
       "  </thead>\n",
       "  <tbody>\n",
       "    <tr>\n",
       "      <th>1</th>\n",
       "      <td>Toy Story (1995)</td>\n",
       "      <td>Adventure|Animation|Children|Comedy|Fantasy</td>\n",
       "      <td>114709</td>\n",
       "      <td>862</td>\n",
       "    </tr>\n",
       "    <tr>\n",
       "      <th>3114</th>\n",
       "      <td>Toy Story 2 (1999)</td>\n",
       "      <td>Adventure|Animation|Children|Comedy|Fantasy</td>\n",
       "      <td>120363</td>\n",
       "      <td>863</td>\n",
       "    </tr>\n",
       "    <tr>\n",
       "      <th>78499</th>\n",
       "      <td>Toy Story 3 (2010)</td>\n",
       "      <td>Adventure|Animation|Children|Comedy|Fantasy|IMAX</td>\n",
       "      <td>435761</td>\n",
       "      <td>10193</td>\n",
       "    </tr>\n",
       "    <tr>\n",
       "      <th>106022</th>\n",
       "      <td>Toy Story of Terror (2013)</td>\n",
       "      <td>Animation|Children|Comedy</td>\n",
       "      <td>2446040</td>\n",
       "      <td>213121</td>\n",
       "    </tr>\n",
       "    <tr>\n",
       "      <th>115875</th>\n",
       "      <td>Toy Story Toons: Hawaiian Vacation (2011)</td>\n",
       "      <td>Adventure|Animation|Children|Comedy|Fantasy</td>\n",
       "      <td>1850374</td>\n",
       "      <td>77887</td>\n",
       "    </tr>\n",
       "    <tr>\n",
       "      <th>115879</th>\n",
       "      <td>Toy Story Toons: Small Fry (2011)</td>\n",
       "      <td>Adventure|Animation|Children|Comedy|Fantasy</td>\n",
       "      <td>2033372</td>\n",
       "      <td>82424</td>\n",
       "    </tr>\n",
       "    <tr>\n",
       "      <th>120468</th>\n",
       "      <td>Toy Story Toons: Partysaurus Rex (2012)</td>\n",
       "      <td>Animation|Children|Comedy</td>\n",
       "      <td>2340678</td>\n",
       "      <td>130925</td>\n",
       "    </tr>\n",
       "    <tr>\n",
       "      <th>120474</th>\n",
       "      <td>Toy Story That Time Forgot (2014)</td>\n",
       "      <td>Animation|Children</td>\n",
       "      <td>3473654</td>\n",
       "      <td>256835</td>\n",
       "    </tr>\n",
       "    <tr>\n",
       "      <th>589</th>\n",
       "      <td>Terminator 2: Judgment Day (1991)</td>\n",
       "      <td>Action|Sci-Fi</td>\n",
       "      <td>103064</td>\n",
       "      <td>280</td>\n",
       "    </tr>\n",
       "    <tr>\n",
       "      <th>1240</th>\n",
       "      <td>Terminator, The (1984)</td>\n",
       "      <td>Action|Sci-Fi|Thriller</td>\n",
       "      <td>88247</td>\n",
       "      <td>218</td>\n",
       "    </tr>\n",
       "    <tr>\n",
       "      <th>4934</th>\n",
       "      <td>Exterminator, The (1980)</td>\n",
       "      <td>Action|Crime|Thriller|War</td>\n",
       "      <td>80707</td>\n",
       "      <td>37835</td>\n",
       "    </tr>\n",
       "    <tr>\n",
       "      <th>6537</th>\n",
       "      <td>Terminator 3: Rise of the Machines (2003)</td>\n",
       "      <td>Action|Adventure|Sci-Fi</td>\n",
       "      <td>181852</td>\n",
       "      <td>296</td>\n",
       "    </tr>\n",
       "    <tr>\n",
       "      <th>68791</th>\n",
       "      <td>Terminator Salvation (2009)</td>\n",
       "      <td>Action|Adventure|Sci-Fi|Thriller</td>\n",
       "      <td>438488</td>\n",
       "      <td>534</td>\n",
       "    </tr>\n",
       "    <tr>\n",
       "      <th>102425</th>\n",
       "      <td>Lady Terminator (Pembalasan ratu pantai selata...</td>\n",
       "      <td>Action|Adventure|Horror|Sci-Fi|Thriller</td>\n",
       "      <td>95483</td>\n",
       "      <td>61904</td>\n",
       "    </tr>\n",
       "  </tbody>\n",
       "</table>\n",
       "</div>"
      ],
      "text/plain": [
       "                                                     title  \\\n",
       "movieId                                                      \n",
       "1                                         Toy Story (1995)   \n",
       "3114                                    Toy Story 2 (1999)   \n",
       "78499                                   Toy Story 3 (2010)   \n",
       "106022                          Toy Story of Terror (2013)   \n",
       "115875           Toy Story Toons: Hawaiian Vacation (2011)   \n",
       "115879                   Toy Story Toons: Small Fry (2011)   \n",
       "120468             Toy Story Toons: Partysaurus Rex (2012)   \n",
       "120474                   Toy Story That Time Forgot (2014)   \n",
       "589                      Terminator 2: Judgment Day (1991)   \n",
       "1240                                Terminator, The (1984)   \n",
       "4934                              Exterminator, The (1980)   \n",
       "6537             Terminator 3: Rise of the Machines (2003)   \n",
       "68791                          Terminator Salvation (2009)   \n",
       "102425   Lady Terminator (Pembalasan ratu pantai selata...   \n",
       "\n",
       "                                                   genres   imdbId  tmdbId  \n",
       "movieId                                                                     \n",
       "1             Adventure|Animation|Children|Comedy|Fantasy   114709     862  \n",
       "3114          Adventure|Animation|Children|Comedy|Fantasy   120363     863  \n",
       "78499    Adventure|Animation|Children|Comedy|Fantasy|IMAX   435761   10193  \n",
       "106022                          Animation|Children|Comedy  2446040  213121  \n",
       "115875        Adventure|Animation|Children|Comedy|Fantasy  1850374   77887  \n",
       "115879        Adventure|Animation|Children|Comedy|Fantasy  2033372   82424  \n",
       "120468                          Animation|Children|Comedy  2340678  130925  \n",
       "120474                                 Animation|Children  3473654  256835  \n",
       "589                                         Action|Sci-Fi   103064     280  \n",
       "1240                               Action|Sci-Fi|Thriller    88247     218  \n",
       "4934                            Action|Crime|Thriller|War    80707   37835  \n",
       "6537                              Action|Adventure|Sci-Fi   181852     296  \n",
       "68791                    Action|Adventure|Sci-Fi|Thriller   438488     534  \n",
       "102425            Action|Adventure|Horror|Sci-Fi|Thriller    95483   61904  "
      ]
     },
     "execution_count": 8,
     "metadata": {},
     "output_type": "execute_result"
    }
   ],
   "source": [
    "import pandas as pd\n",
    "movies = pd.read_csv(\"/mldb_data/data/ml-20m/movies.csv\", index_col=\"movieId\", encoding=\"utf-8\")\n",
    "links = pd.read_csv(\"/mldb_data/data/ml-20m/links.csv\", index_col=\"movieId\")\n",
    "\n",
    "def movie_search(term):\n",
    "    result = []\n",
    "    for x in term.split(\",\"):\n",
    "        if len(x) < 3: continue\n",
    "        m_ids = movies[movies.title.str.contains(x.replace(\"the\", \"\").strip(), case=False)].index\n",
    "        if len(m_ids) == 0:\n",
    "            print \"no results found for \" + x\n",
    "        else:\n",
    "            result += list(m_ids)\n",
    "    return result\n",
    "\n",
    "movies.loc[movie_search(\"toy story, the terminator\")].join(links)\n",
    "    "
   ]
  },
  {
   "cell_type": "markdown",
   "metadata": {},
   "source": [
    "If you say you like some films and dislike some others, we can simplify this by saying your preferences are a vector where the movies you like are rated a 5 and the ones you dislike as a 1."
   ]
  },
  {
   "cell_type": "code",
   "execution_count": 9,
   "metadata": {
    "collapsed": false
   },
   "outputs": [
    {
     "data": {
      "text/html": [
       "<div>\n",
       "<table border=\"1\" class=\"dataframe\">\n",
       "  <thead>\n",
       "    <tr style=\"text-align: right;\">\n",
       "      <th></th>\n",
       "      <th>1</th>\n",
       "      <th>102425</th>\n",
       "      <th>102445</th>\n",
       "      <th>106022</th>\n",
       "      <th>107137</th>\n",
       "      <th>115875</th>\n",
       "      <th>115879</th>\n",
       "      <th>120468</th>\n",
       "      <th>120474</th>\n",
       "      <th>1240</th>\n",
       "      <th>...</th>\n",
       "      <th>2393</th>\n",
       "      <th>3114</th>\n",
       "      <th>329</th>\n",
       "      <th>4934</th>\n",
       "      <th>589</th>\n",
       "      <th>5944</th>\n",
       "      <th>6537</th>\n",
       "      <th>68358</th>\n",
       "      <th>68791</th>\n",
       "      <th>78499</th>\n",
       "    </tr>\n",
       "  </thead>\n",
       "  <tbody>\n",
       "    <tr>\n",
       "      <th>user</th>\n",
       "      <td>5</td>\n",
       "      <td>5</td>\n",
       "      <td>1</td>\n",
       "      <td>5</td>\n",
       "      <td>1</td>\n",
       "      <td>5</td>\n",
       "      <td>5</td>\n",
       "      <td>5</td>\n",
       "      <td>5</td>\n",
       "      <td>5</td>\n",
       "      <td>...</td>\n",
       "      <td>1</td>\n",
       "      <td>5</td>\n",
       "      <td>1</td>\n",
       "      <td>5</td>\n",
       "      <td>5</td>\n",
       "      <td>1</td>\n",
       "      <td>5</td>\n",
       "      <td>1</td>\n",
       "      <td>5</td>\n",
       "      <td>5</td>\n",
       "    </tr>\n",
       "  </tbody>\n",
       "</table>\n",
       "<p>1 rows × 27 columns</p>\n",
       "</div>"
      ],
      "text/plain": [
       "      1  102425  102445  106022  107137  115875  115879  120468  120474  1240  \\\n",
       "user  5       5       1       5       1       5       5       5       5     5   \n",
       "\n",
       "      ...    2393  3114  329  4934  589  5944  6537  68358  68791  78499  \n",
       "user  ...       1     5    1     5    5     1     5      1      5      5  \n",
       "\n",
       "[1 rows x 27 columns]"
      ]
     },
     "execution_count": 9,
     "metadata": {},
     "output_type": "execute_result"
    }
   ],
   "source": [
    "def make_user_vector(like, dislike):\n",
    "    features= {}\n",
    "    for rating, movies in zip([5,1],[movie_search(like), movie_search(dislike)]):\n",
    "        for m in movies:\n",
    "            features[str(m)] = rating\n",
    "    return features\n",
    "\n",
    "pd.DataFrame(make_user_vector(like=\"toy story, the terminator\", dislike=\"star trek\"), index=['user'])"
   ]
  },
  {
   "cell_type": "markdown",
   "metadata": {},
   "source": [
    "The SVD we trained above can 'embed' this point into a special space, which operates a bit like a map of movies. Once we know where your preferences sit in this map, recommending movies to you is just a question of telling which movies are near where you are."
   ]
  },
  {
   "cell_type": "code",
   "execution_count": 11,
   "metadata": {
    "collapsed": false
   },
   "outputs": [
    {
     "data": {
      "text/html": [
       "<div>\n",
       "<table border=\"1\" class=\"dataframe\">\n",
       "  <thead>\n",
       "    <tr style=\"text-align: right;\">\n",
       "      <th></th>\n",
       "      <th>title</th>\n",
       "      <th>genres</th>\n",
       "      <th>imdbId</th>\n",
       "      <th>tmdbId</th>\n",
       "    </tr>\n",
       "    <tr>\n",
       "      <th>movieId</th>\n",
       "      <th></th>\n",
       "      <th></th>\n",
       "      <th></th>\n",
       "      <th></th>\n",
       "    </tr>\n",
       "  </thead>\n",
       "  <tbody>\n",
       "    <tr>\n",
       "      <th>316</th>\n",
       "      <td>Stargate (1994)</td>\n",
       "      <td>Action|Adventure|Sci-Fi</td>\n",
       "      <td>111282</td>\n",
       "      <td>2164</td>\n",
       "    </tr>\n",
       "    <tr>\n",
       "      <th>1682</th>\n",
       "      <td>Truman Show, The (1998)</td>\n",
       "      <td>Comedy|Drama|Sci-Fi</td>\n",
       "      <td>120382</td>\n",
       "      <td>37165</td>\n",
       "    </tr>\n",
       "    <tr>\n",
       "      <th>2617</th>\n",
       "      <td>Mummy, The (1999)</td>\n",
       "      <td>Action|Adventure|Comedy|Fantasy|Horror|Thriller</td>\n",
       "      <td>120616</td>\n",
       "      <td>564</td>\n",
       "    </tr>\n",
       "    <tr>\n",
       "      <th>1222</th>\n",
       "      <td>Full Metal Jacket (1987)</td>\n",
       "      <td>Drama|War</td>\n",
       "      <td>93058</td>\n",
       "      <td>600</td>\n",
       "    </tr>\n",
       "    <tr>\n",
       "      <th>2355</th>\n",
       "      <td>Bug's Life, A (1998)</td>\n",
       "      <td>Adventure|Animation|Children|Comedy</td>\n",
       "      <td>120623</td>\n",
       "      <td>9487</td>\n",
       "    </tr>\n",
       "  </tbody>\n",
       "</table>\n",
       "</div>"
      ],
      "text/plain": [
       "                            title  \\\n",
       "movieId                             \n",
       "316               Stargate (1994)   \n",
       "1682      Truman Show, The (1998)   \n",
       "2617            Mummy, The (1999)   \n",
       "1222     Full Metal Jacket (1987)   \n",
       "2355         Bug's Life, A (1998)   \n",
       "\n",
       "                                                  genres  imdbId  tmdbId  \n",
       "movieId                                                                   \n",
       "316                              Action|Adventure|Sci-Fi  111282    2164  \n",
       "1682                                 Comedy|Drama|Sci-Fi  120382   37165  \n",
       "2617     Action|Adventure|Comedy|Fantasy|Horror|Thriller  120616     564  \n",
       "1222                                           Drama|War   93058     600  \n",
       "2355                 Adventure|Animation|Children|Comedy  120623    9487  "
      ]
     },
     "execution_count": 11,
     "metadata": {},
     "output_type": "execute_result"
    }
   ],
   "source": [
    "def nearby_movies(user_vector):\n",
    "    result1 = mldb.get('/v1/functions/mvlns_svd_embedder/application', input=dict(row=user_vector))\n",
    "    point = result1.json()[\"output\"][\"embedding\"]    \n",
    "    params = {\"svd{0:04d}\".format(i): str(e) for i, e in enumerate(point)}\n",
    "    params[\"numNeighbours\"] = 50\n",
    "    result2 = mldb.get('/v1/datasets/mvlns_svd_embedding/routes/neighbours', **params)\n",
    "    recos = []\n",
    "    for r in result2.json():\n",
    "        if str(r[0]) not in user_vector:\n",
    "            recos.append(r[0])\n",
    "    return recos\n",
    "\n",
    "user_vector = make_user_vector(like=\"toy story, the terminator\", dislike=\"star trek\")\n",
    "recommendations = nearby_movies(user_vector)\n",
    "movies.loc[recommendations].join(links).head()\n"
   ]
  },
  {
   "cell_type": "markdown",
   "metadata": {},
   "source": [
    "Finally, just to show off, we can turn this into a little interactive app.\n",
    "\n",
    "NOTE: the interactive part of this demo only works if you're running this Notebook live, not if you're looking at a static copy on http://mldb.ai. See the documentation for [Running MLDB](/doc/#builtin/Running.md.html)."
   ]
  },
  {
   "cell_type": "code",
   "execution_count": 12,
   "metadata": {
    "collapsed": false
   },
   "outputs": [
    {
     "data": {
      "text/html": [
       "\n",
       "        <iframe\n",
       "            width=\"600\"\n",
       "            height=\"800\"\n",
       "            src=\"data:text/html,<script src='http://www.movieposterdb.com/embed.inc.php?movie_id=120591'></script><script src='http://www.movieposterdb.com/embed.inc.php?movie_id=92005'></script><script src='http://www.movieposterdb.com/embed.inc.php?movie_id=110478'></script><script src='http://www.movieposterdb.com/embed.inc.php?movie_id=108550'></script><script src='http://www.movieposterdb.com/embed.inc.php?movie_id=97165'></script><script src='http://www.movieposterdb.com/embed.inc.php?movie_id=106220'></script><script src='http://www.movieposterdb.com/embed.inc.php?movie_id=107818'></script><script src='http://www.movieposterdb.com/embed.inc.php?movie_id=88847'></script><script src='http://www.movieposterdb.com/embed.inc.php?movie_id=108358'></script><script src='http://www.movieposterdb.com/embed.inc.php?movie_id=120789'></script><script src='http://www.movieposterdb.com/embed.inc.php?movie_id=119528'></script><script src='http://www.movieposterdb.com/embed.inc.php?movie_id=107206'></script><script src='http://www.movieposterdb.com/embed.inc.php?movie_id=120689'></script><script src='http://www.movieposterdb.com/embed.inc.php?movie_id=54215'></script><script src='http://www.movieposterdb.com/embed.inc.php?movie_id=187078'></script><script src='http://www.movieposterdb.com/embed.inc.php?movie_id=50083'></script><script src='http://www.movieposterdb.com/embed.inc.php?movie_id=117438'></script><script src='http://www.movieposterdb.com/embed.inc.php?movie_id=315327'></script><script src='http://www.movieposterdb.com/embed.inc.php?movie_id=111070'></script><script src='http://www.movieposterdb.com/embed.inc.php?movie_id=213149'></script><script src='http://www.movieposterdb.com/embed.inc.php?movie_id=139134'></script><script src='http://www.movieposterdb.com/embed.inc.php?movie_id=147800'></script><script src='http://www.movieposterdb.com/embed.inc.php?movie_id=120660'></script><script src='http://www.movieposterdb.com/embed.inc.php?movie_id=104257'></script><script src='http://www.movieposterdb.com/embed.inc.php?movie_id=120363'></script>\"\n",
       "            frameborder=\"0\"\n",
       "            allowfullscreen\n",
       "        ></iframe>\n",
       "        "
      ],
      "text/plain": [
       "<IPython.lib.display.IFrame at 0x7fd7ebf6c590>"
      ]
     },
     "metadata": {},
     "output_type": "display_data"
    },
    {
     "data": {
      "text/plain": [
       "None"
      ]
     },
     "metadata": {},
     "output_type": "display_data"
    }
   ],
   "source": [
    "from ipywidgets import interact_manual \n",
    "from IPython.display import IFrame, display\n",
    "\n",
    "@interact_manual \n",
    "def recommend_movies(like=\"toy story, terminator\", dislike=\"star trek\"):\n",
    "    display( \n",
    "        IFrame(\"data:text/html,\" + \"\".join([ \n",
    "        \"<script src='http://www.movieposterdb.com/embed.inc.php?movie_id=%s'></script>\" % str(x) \n",
    "        for x in links.loc[nearby_movies(make_user_vector(like, dislike))[:25]].imdbId \n",
    "        ]), 600, 800) \n",
    "    )\n"
   ]
  },
  {
   "cell_type": "markdown",
   "metadata": {
    "collapsed": true
   },
   "source": [
    "## Where to next?\n",
    "\n",
    "Check out the other [Tutorials and Demos](/doc/#builtin/Demos.md.html)."
   ]
  },
  {
   "cell_type": "code",
   "execution_count": null,
   "metadata": {
    "collapsed": true
   },
   "outputs": [],
   "source": []
  }
 ],
 "metadata": {
  "kernelspec": {
   "display_name": "Python 2",
   "language": "python",
   "name": "python2"
  },
  "language_info": {
   "codemirror_mode": {
    "name": "ipython",
    "version": 2
   },
   "file_extension": ".py",
   "mimetype": "text/x-python",
   "name": "python",
   "nbconvert_exporter": "python",
   "pygments_lexer": "ipython2",
   "version": "2.7.6"
  }
 },
 "nbformat": 4,
 "nbformat_minor": 0
}
