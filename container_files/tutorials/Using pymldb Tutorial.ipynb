{
 "cells": [
  {
   "cell_type": "markdown",
   "metadata": {},
   "source": [
    "# Using `pymldb` Tutorial\n",
    "\n",
    "\n",
    "Interactions with MLDB occurs via a [REST API](/doc#builtin/WorkingWithRest.md.html). Interacting with a REST API over HTTP from a Notebook interface can be a little bit laborious if you're using a general-purpose Python library like [`requests`](http://docs.python-requests.org/en/latest/) directly, so MLDB comes with a Python library called [`pymldb`](https://github.com/datacratic/pymldb) to ease the pain.\n",
    "\n",
    "\n",
    "## Connections\n",
    "\n",
    "The [`pymldb` library](https://github.com/datacratic/pymldb) includes a class called `Connection`. The recommended usage pattern is shown here:"
   ]
  },
  {
   "cell_type": "code",
   "execution_count": 1,
   "metadata": {
    "collapsed": true
   },
   "outputs": [],
   "source": [
    "from pymldb import Connection\n",
    "mldb = Connection(\"http://localhost\")"
   ]
  },
  {
   "cell_type": "markdown",
   "metadata": {},
   "source": [
    "## Accessing the REST API\n",
    "\n",
    "Once you have a connection object, you can access any resource in the [REST API](/doc#builtin/WorkingWithRest.md.html) under the `v1` attribute, which is a `Resource` object. A `Resource` object is just an extremely cheap-to-create, immutable proxy for a single URL (which may or may not exist). \n",
    "\n",
    "**Note**: Creating a `Resource` object does not result in any HTTP requests (see below)."
   ]
  },
  {
   "cell_type": "code",
   "execution_count": 2,
   "metadata": {
    "collapsed": false
   },
   "outputs": [
    {
     "name": "stdout",
     "output_type": "stream",
     "text": [
      "http://localhost/v1\n"
     ]
    }
   ],
   "source": [
    "print mldb.v1"
   ]
  },
  {
   "cell_type": "markdown",
   "metadata": {},
   "source": [
    "You can use a `Resource` object to quickly create new `Resource` objects to refer to different URLs by calling functions or passing in arguments, chaining the calls:"
   ]
  },
  {
   "cell_type": "code",
   "execution_count": 3,
   "metadata": {
    "collapsed": false
   },
   "outputs": [
    {
     "name": "stdout",
     "output_type": "stream",
     "text": [
      "<class 'pymldb.resource.Resource'> http://localhost/v1\n",
      "<class 'pymldb.resource.Resource'> http://localhost/v1/x\n",
      "<class 'pymldb.resource.Resource'> http://localhost/v1/x/y\n",
      "<class 'pymldb.resource.Resource'> http://localhost/v1/and/so/on/and/so/on\n"
     ]
    }
   ],
   "source": [
    "print type(mldb.v1), mldb.v1\n",
    "x = mldb.v1.x\n",
    "print type(x), x\n",
    "y = x(\"y\")\n",
    "print type(y), y\n",
    "z = mldb.v1(\"and\").so(\"on\")(\"and\").so.on\n",
    "print type(z), z"
   ]
  },
  {
   "cell_type": "markdown",
   "metadata": {},
   "source": [
    "### Making HTTP requests\n",
    "\n",
    "Once you have a `Resource` object that refers to a URL you care about, you can use it to issue HTTP requests:"
   ]
  },
  {
   "cell_type": "code",
   "execution_count": 4,
   "metadata": {
    "collapsed": false
   },
   "outputs": [
    {
     "data": {
      "text/html": [
       "<strong>GET http://localhost/v1/types/datasets</strong><br /><strong style=\"color: green;\">200 OK</strong><br /> <div class=\"highlight\"><pre style=\"line-height: 125%\">[\n",
       "  <span style=\"color: #0000dd\">&quot;beh&quot;</span>, \n",
       "  <span style=\"color: #0000dd\">&quot;beh.binary&quot;</span>, \n",
       "  <span style=\"color: #0000dd\">&quot;beh.binary.mutable&quot;</span>, \n",
       "  <span style=\"color: #0000dd\">&quot;beh.mutable&quot;</span>, \n",
       "  <span style=\"color: #0000dd\">&quot;continuous&quot;</span>, \n",
       "  <span style=\"color: #0000dd\">&quot;continuous.window&quot;</span>, \n",
       "  <span style=\"color: #0000dd\">&quot;embedding&quot;</span>, \n",
       "  <span style=\"color: #0000dd\">&quot;experimental.sparse.mutable&quot;</span>, \n",
       "  <span style=\"color: #0000dd\">&quot;joined&quot;</span>, \n",
       "  <span style=\"color: #0000dd\">&quot;merged&quot;</span>, \n",
       "  <span style=\"color: #0000dd\">&quot;sqliteSparse&quot;</span>, \n",
       "  <span style=\"color: #0000dd\">&quot;sub&quot;</span>, \n",
       "  <span style=\"color: #0000dd\">&quot;text.csv.tabular&quot;</span>, \n",
       "  <span style=\"color: #0000dd\">&quot;text.line&quot;</span>, \n",
       "  <span style=\"color: #0000dd\">&quot;transposed&quot;</span>\n",
       "]\n",
       "</pre></div>\n"
      ],
      "text/plain": [
       "<Response [200]>"
      ]
     },
     "execution_count": 4,
     "metadata": {},
     "output_type": "execute_result"
    }
   ],
   "source": [
    "dataset_types = mldb.v1.types.datasets\n",
    "dataset_types.get()"
   ]
  },
  {
   "cell_type": "code",
   "execution_count": 5,
   "metadata": {
    "collapsed": false
   },
   "outputs": [
    {
     "data": {
      "text/html": [
       "<strong>GET http://localhost/v1/types?x=y</strong><br /><strong style=\"color: green;\">200 OK</strong><br /> <div class=\"highlight\"><pre style=\"line-height: 125%\">[\n",
       "  <span style=\"color: #0000dd\">&quot;algorithms&quot;</span>, \n",
       "  <span style=\"color: #0000dd\">&quot;datasets&quot;</span>, \n",
       "  <span style=\"color: #0000dd\">&quot;functions&quot;</span>, \n",
       "  <span style=\"color: #0000dd\">&quot;plugin.setups&quot;</span>, \n",
       "  <span style=\"color: #0000dd\">&quot;plugin.startups&quot;</span>, \n",
       "  <span style=\"color: #0000dd\">&quot;plugins&quot;</span>, \n",
       "  <span style=\"color: #0000dd\">&quot;procedures&quot;</span>\n",
       "]\n",
       "</pre></div>\n"
      ],
      "text/plain": [
       "<Response [200]>"
      ]
     },
     "execution_count": 5,
     "metadata": {},
     "output_type": "execute_result"
    }
   ],
   "source": [
    "#keyword arguments to get() are appended to the GET query string\n",
    "\n",
    "mldb.v1.types.get(x=\"y\")"
   ]
  },
  {
   "cell_type": "code",
   "execution_count": 6,
   "metadata": {
    "collapsed": false
   },
   "outputs": [
    {
     "data": {
      "text/html": [
       "<strong>PUT http://localhost/v1/datasets/sample</strong><br /><strong style=\"color: green;\">201 Created</strong><br /> <div class=\"highlight\"><pre style=\"line-height: 125%\">{\n",
       "  <span style=\"color: #333333; font-weight: bold\">&quot;status&quot;</span>: {\n",
       "    <span style=\"color: #333333; font-weight: bold\">&quot;rowCount&quot;</span>: <span style=\"color: #0000dd\">0</span>, \n",
       "    <span style=\"color: #333333; font-weight: bold\">&quot;valueCount&quot;</span>: <span style=\"color: #0000dd\">0</span>, \n",
       "    <span style=\"color: #333333; font-weight: bold\">&quot;memUsageMb&quot;</span>: <span style=\"color: #0000dd\">0.00208</span>, \n",
       "    <span style=\"color: #333333; font-weight: bold\">&quot;eventsRecorded&quot;</span>: <span style=\"color: #0000dd\">0</span>\n",
       "  }, \n",
       "  <span style=\"color: #333333; font-weight: bold\">&quot;config&quot;</span>: {\n",
       "    <span style=\"color: #333333; font-weight: bold\">&quot;type&quot;</span>: <span style=\"color: #0000dd\">&quot;beh.mutable&quot;</span>, \n",
       "    <span style=\"color: #333333; font-weight: bold\">&quot;id&quot;</span>: <span style=\"color: #0000dd\">&quot;sample&quot;</span>\n",
       "  }, \n",
       "  <span style=\"color: #333333; font-weight: bold\">&quot;state&quot;</span>: <span style=\"color: #0000dd\">&quot;ok&quot;</span>, \n",
       "  <span style=\"color: #333333; font-weight: bold\">&quot;type&quot;</span>: <span style=\"color: #0000dd\">&quot;beh.mutable&quot;</span>, \n",
       "  <span style=\"color: #333333; font-weight: bold\">&quot;id&quot;</span>: <span style=\"color: #0000dd\">&quot;sample&quot;</span>\n",
       "}\n",
       "</pre></div>\n"
      ],
      "text/plain": [
       "<Response [201]>"
      ]
     },
     "execution_count": 6,
     "metadata": {},
     "output_type": "execute_result"
    }
   ],
   "source": [
    "#dictionaries arguments to put() and post() are sent as JSON via PUT or POST\n",
    "\n",
    "mldb.v1.datasets(\"sample\").put( {\"type\": \"beh.mutable\"} ) "
   ]
  },
  {
   "cell_type": "markdown",
   "metadata": {},
   "source": [
    "Here we create a dataset and insert two rows of two columns into it:"
   ]
  },
  {
   "cell_type": "code",
   "execution_count": 7,
   "metadata": {
    "collapsed": false
   },
   "outputs": [
    {
     "data": {
      "text/html": [
       "<strong>POST http://localhost/v1/datasets/demo/commit</strong><br /><strong style=\"color: green;\">200 OK</strong><br /> "
      ],
      "text/plain": [
       "<Response [200]>"
      ]
     },
     "execution_count": 7,
     "metadata": {},
     "output_type": "execute_result"
    }
   ],
   "source": [
    "demo = mldb.v1.datasets(\"demo\")\n",
    "demo.put({\"type\":\"beh.mutable\"})\n",
    "demo.rows.post({\"rowName\": \"first\", \"columns\":[[\"a\",1,0],[\"b\",2,0]]})\n",
    "demo.rows.post({\"rowName\": \"second\", \"columns\":[[\"a\",3,0],[\"b\",4,0]]})\n",
    "demo.commit.post({})"
   ]
  },
  {
   "cell_type": "markdown",
   "metadata": {},
   "source": [
    "------\n",
    "\n",
    "## SQL Queries\n",
    "\n",
    "Now that we have a dataset, we can use the `query()` method on the connection to run an [SQL query](/doc/#builtin/sql/Sql.md.html) and get the results back as a Pandas DataFrame:"
   ]
  },
  {
   "cell_type": "code",
   "execution_count": 8,
   "metadata": {
    "collapsed": false
   },
   "outputs": [
    {
     "name": "stdout",
     "output_type": "stream",
     "text": [
      "<class 'pandas.core.frame.DataFrame'>\n"
     ]
    }
   ],
   "source": [
    "df = mldb.query(\"select * from demo\")\n",
    "print type(df)"
   ]
  },
  {
   "cell_type": "code",
   "execution_count": 9,
   "metadata": {
    "collapsed": false
   },
   "outputs": [
    {
     "data": {
      "text/html": [
       "<div>\n",
       "<table border=\"1\" class=\"dataframe\">\n",
       "  <thead>\n",
       "    <tr style=\"text-align: right;\">\n",
       "      <th></th>\n",
       "      <th>a</th>\n",
       "      <th>b</th>\n",
       "    </tr>\n",
       "    <tr>\n",
       "      <th>_rowName</th>\n",
       "      <th></th>\n",
       "      <th></th>\n",
       "    </tr>\n",
       "  </thead>\n",
       "  <tbody>\n",
       "    <tr>\n",
       "      <th>second</th>\n",
       "      <td>3</td>\n",
       "      <td>4</td>\n",
       "    </tr>\n",
       "    <tr>\n",
       "      <th>first</th>\n",
       "      <td>1</td>\n",
       "      <td>2</td>\n",
       "    </tr>\n",
       "  </tbody>\n",
       "</table>\n",
       "</div>"
      ],
      "text/plain": [
       "          a  b\n",
       "_rowName      \n",
       "second    3  4\n",
       "first     1  2"
      ]
     },
     "execution_count": 9,
     "metadata": {},
     "output_type": "execute_result"
    }
   ],
   "source": [
    "df"
   ]
  },
  {
   "cell_type": "markdown",
   "metadata": {},
   "source": [
    "## Errors\n",
    "\n",
    "`pymldb` HTTP requests will raise an exception if the status code returned by the server is not in the 2xx or 3xx range (i.e. if there is a problem with the request or if the server encounters an error while processing the request). This behaviour can be avoided by setting the argument `raise_on_error` to `False`."
   ]
  },
  {
   "cell_type": "code",
   "execution_count": 10,
   "metadata": {
    "collapsed": false
   },
   "outputs": [
    {
     "name": "stdout",
     "output_type": "stream",
     "text": [
      "http://localhost/v1/this/url/does/not/exist\n"
     ]
    }
   ],
   "source": [
    "bad_url = mldb.v1.this.url.does(\"not\").exist\n",
    "print bad_url"
   ]
  },
  {
   "cell_type": "code",
   "execution_count": 11,
   "metadata": {
    "collapsed": false
   },
   "outputs": [
    {
     "data": {
      "text/html": [
       "<strong>GET http://localhost/v1/this/url/does/not/exist</strong><br /><strong style=\"color: red;\">404 Not Found</strong><br /> <div class=\"highlight\"><pre style=\"line-height: 125%\"><span style=\"color: #0000dd\">&quot;unknown resource GET /v1/this/url/does/not/exist&quot;</span>\n",
       "</pre></div>\n"
      ],
      "text/plain": [
       "<Response [404]>"
      ]
     },
     "execution_count": 11,
     "metadata": {},
     "output_type": "execute_result"
    }
   ],
   "source": [
    "bad_url.get(raise_on_error=False)"
   ]
  },
  {
   "cell_type": "code",
   "execution_count": 12,
   "metadata": {
    "collapsed": false
   },
   "outputs": [
    {
     "ename": "ResourceError",
     "evalue": "'404 Not Found' response to 'GET http://localhost/v1/this/url/does/not/exist'\n\n\"unknown resource GET /v1/this/url/does/not/exist\"",
     "output_type": "error",
     "traceback": [
      "\u001b[1;31m---------------------------------------------------------------------------\u001b[0m",
      "\u001b[1;31mResourceError\u001b[0m                             Traceback (most recent call last)",
      "\u001b[1;32m<ipython-input-12-72f98cb80e4b>\u001b[0m in \u001b[0;36m<module>\u001b[1;34m()\u001b[0m\n\u001b[1;32m----> 1\u001b[1;33m \u001b[0mbad_url\u001b[0m\u001b[1;33m.\u001b[0m\u001b[0mget\u001b[0m\u001b[1;33m(\u001b[0m\u001b[1;33m)\u001b[0m\u001b[1;33m\u001b[0m\u001b[0m\n\u001b[0m",
      "\u001b[1;32m/usr/local/lib/python2.7/dist-packages/pymldb/resource.pyc\u001b[0m in \u001b[0;36minner\u001b[1;34m(*args, **kwargs)\u001b[0m\n\u001b[0;32m     22\u001b[0m         \u001b[0mresult\u001b[0m \u001b[1;33m=\u001b[0m \u001b[0madd_repr_html_to_response\u001b[0m\u001b[1;33m(\u001b[0m\u001b[0mfn\u001b[0m\u001b[1;33m(\u001b[0m\u001b[1;33m*\u001b[0m\u001b[0margs\u001b[0m\u001b[1;33m,\u001b[0m \u001b[1;33m**\u001b[0m\u001b[0mkwargs\u001b[0m\u001b[1;33m)\u001b[0m\u001b[1;33m)\u001b[0m\u001b[1;33m\u001b[0m\u001b[0m\n\u001b[0;32m     23\u001b[0m         \u001b[1;32mif\u001b[0m \u001b[0mraise_on_error\u001b[0m \u001b[1;32mand\u001b[0m \u001b[0mresult\u001b[0m\u001b[1;33m.\u001b[0m\u001b[0mstatus_code\u001b[0m \u001b[1;33m>=\u001b[0m \u001b[1;36m400\u001b[0m\u001b[1;33m:\u001b[0m\u001b[1;33m\u001b[0m\u001b[0m\n\u001b[1;32m---> 24\u001b[1;33m             \u001b[1;32mraise\u001b[0m \u001b[0mResourceError\u001b[0m\u001b[1;33m(\u001b[0m\u001b[0mresult\u001b[0m\u001b[1;33m)\u001b[0m\u001b[1;33m\u001b[0m\u001b[0m\n\u001b[0m\u001b[0;32m     25\u001b[0m         \u001b[1;32mreturn\u001b[0m \u001b[0mresult\u001b[0m\u001b[1;33m\u001b[0m\u001b[0m\n\u001b[0;32m     26\u001b[0m     \u001b[1;32mreturn\u001b[0m \u001b[0minner\u001b[0m\u001b[1;33m\u001b[0m\u001b[0m\n",
      "\u001b[1;31mResourceError\u001b[0m: '404 Not Found' response to 'GET http://localhost/v1/this/url/does/not/exist'\n\n\"unknown resource GET /v1/this/url/does/not/exist\""
     ]
    }
   ],
   "source": [
    "bad_url.get()"
   ]
  },
  {
   "cell_type": "markdown",
   "metadata": {
    "collapsed": true
   },
   "source": [
    "## Where to next?\n",
    "\n",
    "Check out the other [Tutorials and Demos](/doc/#builtin/Demos.md.html)."
   ]
  },
  {
   "cell_type": "code",
   "execution_count": null,
   "metadata": {
    "collapsed": true
   },
   "outputs": [],
   "source": []
  }
 ],
 "metadata": {
  "kernelspec": {
   "display_name": "Python 2",
   "language": "python",
   "name": "python2"
  },
  "language_info": {
   "codemirror_mode": {
    "name": "ipython",
    "version": 2
   },
   "file_extension": ".py",
   "mimetype": "text/x-python",
   "name": "python",
   "nbconvert_exporter": "python",
   "pygments_lexer": "ipython2",
   "version": "2.7.6"
  }
 },
 "nbformat": 4,
 "nbformat_minor": 0
}
