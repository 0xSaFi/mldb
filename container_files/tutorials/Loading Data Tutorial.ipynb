{
 "cells": [
  {
   "cell_type": "markdown",
   "metadata": {},
   "source": [
    "# Loading Data Tutorial\n",
    "\n",
    "MLDB operates on data via [Datasets](/doc/#builtin/datasets/Datasets.md.html), which can be created and populated in three different ways:\n",
    "\n",
    "1. You can create a mutable Dataset and insert data row by row via REST.\n",
    "1. You can create a Dataset from an existing file.\n",
    "1. You can create a Dataset by running a [Procedure](/doc/#builtin/procedures/Procedure.md.html)."
   ]
  },
  {
   "cell_type": "markdown",
   "metadata": {},
   "source": [
    "## Creating Datasets via REST\n",
    "\n",
    "Creating a Dataset is a simple REST call, and the most important thing to do when creating a Dataset is to choose the right [Dataset type](/doc/#builtin/datasets/Datasets.md.html). Here we will use a type from the `beh` family: the [`beh.mutable` Dataset](/doc/#builtin/datasets/MutableBehaviourDataset.md.html), which will allow us to append data before committing."
   ]
  },
  {
   "cell_type": "markdown",
   "metadata": {},
   "source": [
    "The notebook cells below use `pymldb`'s `Connection` class to make [REST API](/doc/#builtin/WorkingWithRest.md.html) calls. You can check out the [Using `pymldb` Tutorial](/doc/nblink.html#_tutorials/Using pymldb Tutorial) for more details."
   ]
  },
  {
   "cell_type": "code",
   "execution_count": 1,
   "metadata": {
    "collapsed": false
   },
   "outputs": [],
   "source": [
    "from pymldb import Connection\n",
    "mldb = Connection()"
   ]
  },
  {
   "cell_type": "markdown",
   "metadata": {},
   "source": [
    "Let's create a dataset called `example` which will be persisted to the local disk at `/mldb_data/datasets/example.beh`."
   ]
  },
  {
   "cell_type": "code",
   "execution_count": 2,
   "metadata": {
    "collapsed": false
   },
   "outputs": [
    {
     "data": {
      "text/html": [
       "<strong>PUT http://localhost/v1/datasets/example</strong><br /><strong style=\"color: green;\">201 Created</strong><br /> <div class=\"highlight\"><pre style=\"line-height: 125%\">{\n",
       "  <span style=\"color: #333333; font-weight: bold\">&quot;status&quot;</span>: {\n",
       "    <span style=\"color: #333333; font-weight: bold\">&quot;rowCount&quot;</span>: <span style=\"color: #0000dd\">0</span>, \n",
       "    <span style=\"color: #333333; font-weight: bold\">&quot;valueCount&quot;</span>: <span style=\"color: #0000dd\">0</span>, \n",
       "    <span style=\"color: #333333; font-weight: bold\">&quot;memUsageMb&quot;</span>: <span style=\"color: #0000dd\">0.00208</span>, \n",
       "    <span style=\"color: #333333; font-weight: bold\">&quot;eventsRecorded&quot;</span>: <span style=\"color: #0000dd\">0</span>\n",
       "  }, \n",
       "  <span style=\"color: #333333; font-weight: bold\">&quot;config&quot;</span>: {\n",
       "    <span style=\"color: #333333; font-weight: bold\">&quot;params&quot;</span>: {\n",
       "      <span style=\"color: #333333; font-weight: bold\">&quot;dataFileUrl&quot;</span>: <span style=\"color: #0000dd\">&quot;file:///mldb_data/datasets/example.beh&quot;</span>\n",
       "    }, \n",
       "    <span style=\"color: #333333; font-weight: bold\">&quot;type&quot;</span>: <span style=\"color: #0000dd\">&quot;beh.mutable&quot;</span>, \n",
       "    <span style=\"color: #333333; font-weight: bold\">&quot;id&quot;</span>: <span style=\"color: #0000dd\">&quot;example&quot;</span>\n",
       "  }, \n",
       "  <span style=\"color: #333333; font-weight: bold\">&quot;state&quot;</span>: <span style=\"color: #0000dd\">&quot;ok&quot;</span>, \n",
       "  <span style=\"color: #333333; font-weight: bold\">&quot;type&quot;</span>: <span style=\"color: #0000dd\">&quot;beh.mutable&quot;</span>, \n",
       "  <span style=\"color: #333333; font-weight: bold\">&quot;id&quot;</span>: <span style=\"color: #0000dd\">&quot;example&quot;</span>\n",
       "}\n",
       "</pre></div>\n"
      ],
      "text/plain": [
       "<Response [201]>"
      ]
     },
     "execution_count": 2,
     "metadata": {},
     "output_type": "execute_result"
    }
   ],
   "source": [
    "ds = mldb.v1.datasets(\"example\")\n",
    "ds.put({\n",
    "    \"type\":\"beh.mutable\",\n",
    "    \"params\": {\n",
    "        \"dataFileUrl\":\"file:///mldb_data/datasets/example.beh\"\n",
    "    }\n",
    "})"
   ]
  },
  {
   "cell_type": "markdown",
   "metadata": {},
   "source": [
    "That's all there is to it, and now we can add some rows and commit the dataset."
   ]
  },
  {
   "cell_type": "code",
   "execution_count": 3,
   "metadata": {
    "collapsed": false
   },
   "outputs": [
    {
     "data": {
      "text/html": [
       "<strong>POST http://localhost/v1/datasets/example/commit</strong><br /><strong style=\"color: green;\">200 OK</strong><br /> "
      ],
      "text/plain": [
       "<Response [200]>"
      ]
     },
     "execution_count": 3,
     "metadata": {},
     "output_type": "execute_result"
    }
   ],
   "source": [
    "ds.rows.post({\n",
    "    \"rowName\": \"first row\",\n",
    "    \"columns\": [\n",
    "        [\"first column\", 1, 0],\n",
    "        [\"second column\", 2, 0]\n",
    "    ]\n",
    "})\n",
    "\n",
    "ds.rows.post({\n",
    "    \"rowName\": \"second row\",\n",
    "    \"columns\": [\n",
    "        [\"first column\", 3, 0],\n",
    "        [\"second column\", 4, 0]\n",
    "    ]\n",
    "})\n",
    "\n",
    "ds.commit.post({})"
   ]
  },
  {
   "cell_type": "markdown",
   "metadata": {},
   "source": [
    "So now we have a little bit of data in our dataset. Let's check."
   ]
  },
  {
   "cell_type": "code",
   "execution_count": 4,
   "metadata": {
    "collapsed": false
   },
   "outputs": [
    {
     "data": {
      "text/html": [
       "<div>\n",
       "<table border=\"1\" class=\"dataframe\">\n",
       "  <thead>\n",
       "    <tr style=\"text-align: right;\">\n",
       "      <th></th>\n",
       "      <th>first column</th>\n",
       "      <th>second column</th>\n",
       "    </tr>\n",
       "    <tr>\n",
       "      <th>_rowName</th>\n",
       "      <th></th>\n",
       "      <th></th>\n",
       "    </tr>\n",
       "  </thead>\n",
       "  <tbody>\n",
       "    <tr>\n",
       "      <th>first row</th>\n",
       "      <td>1</td>\n",
       "      <td>2</td>\n",
       "    </tr>\n",
       "    <tr>\n",
       "      <th>second row</th>\n",
       "      <td>3</td>\n",
       "      <td>4</td>\n",
       "    </tr>\n",
       "  </tbody>\n",
       "</table>\n",
       "</div>"
      ],
      "text/plain": [
       "            first column  second column\n",
       "_rowName                               \n",
       "first row              1              2\n",
       "second row             3              4"
      ]
     },
     "execution_count": 4,
     "metadata": {},
     "output_type": "execute_result"
    }
   ],
   "source": [
    "mldb.query(\"select * from example\")"
   ]
  },
  {
   "cell_type": "markdown",
   "metadata": {},
   "source": [
    "## Creating a Dataset from a file\n",
    "\n",
    "In the example above, our dataset was persisted to the local disk at `/mldb_data/datasets/example.beh`. The immutable [`beh` Dataset](/doc/#builtin/datasets/BehaviourDataset.md.html) type can load data from `.beh` files. This means that we could have persisted our file to shared storage, such as Amazon S3, and another instance of MLDB can load it up directly."
   ]
  },
  {
   "cell_type": "code",
   "execution_count": 5,
   "metadata": {
    "collapsed": false
   },
   "outputs": [
    {
     "data": {
      "text/html": [
       "<strong>PUT http://localhost/v1/datasets/example2</strong><br /><strong style=\"color: green;\">201 Created</strong><br /> <div class=\"highlight\"><pre style=\"line-height: 125%\">{\n",
       "  <span style=\"color: #333333; font-weight: bold\">&quot;status&quot;</span>: {\n",
       "    <span style=\"color: #333333; font-weight: bold\">&quot;columnCount&quot;</span>: <span style=\"color: #0000dd\">2</span>, \n",
       "    <span style=\"color: #333333; font-weight: bold\">&quot;rowCount&quot;</span>: <span style=\"color: #0000dd\">2</span>, \n",
       "    <span style=\"color: #333333; font-weight: bold\">&quot;valueCount&quot;</span>: <span style=\"color: #0000dd\">4</span>, \n",
       "    <span style=\"color: #333333; font-weight: bold\">&quot;memUsageMb&quot;</span>: <span style=\"color: #0000dd\">0.004704</span>\n",
       "  }, \n",
       "  <span style=\"color: #333333; font-weight: bold\">&quot;config&quot;</span>: {\n",
       "    <span style=\"color: #333333; font-weight: bold\">&quot;params&quot;</span>: {\n",
       "      <span style=\"color: #333333; font-weight: bold\">&quot;dataFileUrl&quot;</span>: <span style=\"color: #0000dd\">&quot;file:///mldb_data/datasets/example.beh&quot;</span>\n",
       "    }, \n",
       "    <span style=\"color: #333333; font-weight: bold\">&quot;type&quot;</span>: <span style=\"color: #0000dd\">&quot;beh&quot;</span>, \n",
       "    <span style=\"color: #333333; font-weight: bold\">&quot;id&quot;</span>: <span style=\"color: #0000dd\">&quot;example2&quot;</span>\n",
       "  }, \n",
       "  <span style=\"color: #333333; font-weight: bold\">&quot;state&quot;</span>: <span style=\"color: #0000dd\">&quot;ok&quot;</span>, \n",
       "  <span style=\"color: #333333; font-weight: bold\">&quot;type&quot;</span>: <span style=\"color: #0000dd\">&quot;beh&quot;</span>, \n",
       "  <span style=\"color: #333333; font-weight: bold\">&quot;id&quot;</span>: <span style=\"color: #0000dd\">&quot;example2&quot;</span>\n",
       "}\n",
       "</pre></div>\n"
      ],
      "text/plain": [
       "<Response [201]>"
      ]
     },
     "execution_count": 5,
     "metadata": {},
     "output_type": "execute_result"
    }
   ],
   "source": [
    "ds2 = mldb.v1.datasets(\"example2\")\n",
    "ds2.put({\n",
    "    \"type\":\"beh\",\n",
    "    \"params\": {\n",
    "        \"dataFileUrl\":\"file:///mldb_data/datasets/example.beh\"\n",
    "    }\n",
    "})"
   ]
  },
  {
   "cell_type": "code",
   "execution_count": 6,
   "metadata": {
    "collapsed": false
   },
   "outputs": [
    {
     "data": {
      "text/html": [
       "<div>\n",
       "<table border=\"1\" class=\"dataframe\">\n",
       "  <thead>\n",
       "    <tr style=\"text-align: right;\">\n",
       "      <th></th>\n",
       "      <th>first column</th>\n",
       "      <th>second column</th>\n",
       "    </tr>\n",
       "    <tr>\n",
       "      <th>_rowName</th>\n",
       "      <th></th>\n",
       "      <th></th>\n",
       "    </tr>\n",
       "  </thead>\n",
       "  <tbody>\n",
       "    <tr>\n",
       "      <th>first row</th>\n",
       "      <td>1</td>\n",
       "      <td>2</td>\n",
       "    </tr>\n",
       "    <tr>\n",
       "      <th>second row</th>\n",
       "      <td>3</td>\n",
       "      <td>4</td>\n",
       "    </tr>\n",
       "  </tbody>\n",
       "</table>\n",
       "</div>"
      ],
      "text/plain": [
       "            first column  second column\n",
       "_rowName                               \n",
       "first row              1              2\n",
       "second row             3              4"
      ]
     },
     "execution_count": 6,
     "metadata": {},
     "output_type": "execute_result"
    }
   ],
   "source": [
    "mldb.query(\"select * from example2\")"
   ]
  },
  {
   "cell_type": "markdown",
   "metadata": {},
   "source": [
    "## Creating a Dataset by running a Procedure on another Dataset\n",
    "\n",
    "Procedures take Datasets as inputs and can create Datasets as outputs. This is how you can do data cleanup/transformation in MLDB. Here's a simple example with the [`transform` Procedure](/doc/#builtin/procedures/TransformDataset.md.html):"
   ]
  },
  {
   "cell_type": "code",
   "execution_count": 7,
   "metadata": {
    "collapsed": false
   },
   "outputs": [
    {
     "data": {
      "text/html": [
       "<strong>POST http://localhost/v1/procedures/example/runs</strong><br /><strong style=\"color: green;\">201 Created</strong><br /> <div class=\"highlight\"><pre style=\"line-height: 125%\">{\n",
       "  <span style=\"color: #333333; font-weight: bold\">&quot;status&quot;</span>: {\n",
       "    <span style=\"color: #333333; font-weight: bold\">&quot;rowCount&quot;</span>: <span style=\"color: #0000dd\">2</span>, \n",
       "    <span style=\"color: #333333; font-weight: bold\">&quot;valueCount&quot;</span>: <span style=\"color: #0000dd\">2</span>, \n",
       "    <span style=\"color: #333333; font-weight: bold\">&quot;memUsageMb&quot;</span>: <span style=\"color: #0000dd\">0.051744</span>, \n",
       "    <span style=\"color: #333333; font-weight: bold\">&quot;eventsRecorded&quot;</span>: <span style=\"color: #0000dd\">2</span>\n",
       "  }, \n",
       "  <span style=\"color: #333333; font-weight: bold\">&quot;runStarted&quot;</span>: <span style=\"color: #0000dd\">&quot;2015-11-13T01:43:45.992Z&quot;</span>, \n",
       "  <span style=\"color: #333333; font-weight: bold\">&quot;state&quot;</span>: <span style=\"color: #0000dd\">&quot;finished&quot;</span>, \n",
       "  <span style=\"color: #333333; font-weight: bold\">&quot;runFinished&quot;</span>: <span style=\"color: #0000dd\">&quot;2015-11-13T01:43:46.011Z&quot;</span>, \n",
       "  <span style=\"color: #333333; font-weight: bold\">&quot;id&quot;</span>: <span style=\"color: #0000dd\">&quot;2015-11-13T01:43:45.992420Z-5bc7042b732cb41f&quot;</span>\n",
       "}\n",
       "</pre></div>\n"
      ],
      "text/plain": [
       "<Response [201]>"
      ]
     },
     "execution_count": 7,
     "metadata": {},
     "output_type": "execute_result"
    }
   ],
   "source": [
    "proc = mldb.v1.procedures(\"example\")\n",
    "proc.put({\n",
    "    \"type\": \"transform\",\n",
    "    \"params\": {\n",
    "        \"inputDataset\": {\"id\": \"example\"},\n",
    "        \"outputDataset\": {\n",
    "            \"id\": \"example3\", \"type\":\"beh.mutable\", \n",
    "            \"params\":{\n",
    "                \"dataFileUrl\": \"file:///mldb_data/datasets/example3.beh\"\n",
    "            }\n",
    "        },\n",
    "        \"select\": '\"first column\" + \"second column\" as \"transformed column\"'\n",
    "    }\n",
    "})\n",
    "proc.runs.post({})"
   ]
  },
  {
   "cell_type": "code",
   "execution_count": 8,
   "metadata": {
    "collapsed": false
   },
   "outputs": [
    {
     "data": {
      "text/html": [
       "<div>\n",
       "<table border=\"1\" class=\"dataframe\">\n",
       "  <thead>\n",
       "    <tr style=\"text-align: right;\">\n",
       "      <th></th>\n",
       "      <th>transformed column</th>\n",
       "    </tr>\n",
       "    <tr>\n",
       "      <th>_rowName</th>\n",
       "      <th></th>\n",
       "    </tr>\n",
       "  </thead>\n",
       "  <tbody>\n",
       "    <tr>\n",
       "      <th>first row</th>\n",
       "      <td>3</td>\n",
       "    </tr>\n",
       "    <tr>\n",
       "      <th>second row</th>\n",
       "      <td>7</td>\n",
       "    </tr>\n",
       "  </tbody>\n",
       "</table>\n",
       "</div>"
      ],
      "text/plain": [
       "            transformed column\n",
       "_rowName                      \n",
       "first row                    3\n",
       "second row                   7"
      ]
     },
     "execution_count": 8,
     "metadata": {},
     "output_type": "execute_result"
    }
   ],
   "source": [
    "mldb.query(\"select * from example3\")"
   ]
  },
  {
   "cell_type": "markdown",
   "metadata": {
    "collapsed": true
   },
   "source": [
    "## Where to next?\n",
    "\n",
    "Check out the other [Tutorials and Demos](/doc/#builtin/Demos.md.html)."
   ]
  },
  {
   "cell_type": "code",
   "execution_count": null,
   "metadata": {
    "collapsed": true
   },
   "outputs": [],
   "source": []
  }
 ],
 "metadata": {
  "kernelspec": {
   "display_name": "Python 2",
   "language": "python",
   "name": "python2"
  },
  "language_info": {
   "codemirror_mode": {
    "name": "ipython",
    "version": 2
   },
   "file_extension": ".py",
   "mimetype": "text/x-python",
   "name": "python",
   "nbconvert_exporter": "python",
   "pygments_lexer": "ipython2",
   "version": "2.7.6"
  }
 },
 "nbformat": 4,
 "nbformat_minor": 0
}
