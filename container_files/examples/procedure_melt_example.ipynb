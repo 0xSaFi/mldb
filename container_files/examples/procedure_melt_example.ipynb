{
 "cells": [
  {
   "cell_type": "markdown",
   "metadata": {},
   "source": [
    "# `melt` Procedure Example\n",
    "\n",
    "This notebook shows an example of using the `stemmer` function. It assumes basic working knowledge of MLDB. Take a look at the [demos and tutorials](../../../../doc/#builtin/Demos.md.html) to get started with MLDB. [Back to melt documentation](../../../../doc/#builtin/procedures/MeltProcedure.md.html)"
   ]
  },
  {
   "cell_type": "code",
   "execution_count": 1,
   "metadata": {
    "collapsed": true
   },
   "outputs": [],
   "source": [
    "from pymldb import Connection\n",
    "mldb = Connection(\"http://localhost\")"
   ]
  },
  {
   "cell_type": "markdown",
   "metadata": {},
   "source": [
    "## Example with a JSON array"
   ]
  },
  {
   "cell_type": "markdown",
   "metadata": {},
   "source": [
    "Let's start by creating a toy dataset:"
   ]
  },
  {
   "cell_type": "code",
   "execution_count": 5,
   "metadata": {
    "collapsed": false
   },
   "outputs": [
    {
     "data": {
      "text/html": [
       "<strong>POST http://localhost/v1/datasets/melt_proc/commit</strong><br /><strong style=\"color: green;\">200 OK</strong><br /> "
      ],
      "text/plain": [
       "<Response [200]>"
      ]
     },
     "execution_count": 5,
     "metadata": {},
     "output_type": "execute_result"
    }
   ],
   "source": [
    "mldb.put('/v1/datasets/melt_proc', { \"type\":\"sparse.mutable\" })\n",
    "\n",
    "mldb.post('/v1/datasets/melt_proc/rows', {\n",
    "    \"rowName\": \"row_0\",\n",
    "    \"columns\": [\n",
    "        [\"name\", \"bill\", 0],\n",
    "        [\"age\", 20, 0],\n",
    "        [\"friends\", '[{\"name\": \"mich\", \"age\": 20}, {\"name\": \"jean\", \"age\": 18}]', 0]\n",
    "    ]\n",
    "})\n",
    "\n",
    "mldb.post(\"/v1/datasets/melt_proc/commit\")"
   ]
  },
  {
   "cell_type": "markdown",
   "metadata": {},
   "source": [
    "The dataset looks like this:"
   ]
  },
  {
   "cell_type": "code",
   "execution_count": 6,
   "metadata": {
    "collapsed": false
   },
   "outputs": [
    {
     "data": {
      "text/html": [
       "<div>\n",
       "<table border=\"1\" class=\"dataframe\">\n",
       "  <thead>\n",
       "    <tr style=\"text-align: right;\">\n",
       "      <th></th>\n",
       "      <th>age</th>\n",
       "      <th>friends</th>\n",
       "      <th>name</th>\n",
       "    </tr>\n",
       "    <tr>\n",
       "      <th>_rowName</th>\n",
       "      <th></th>\n",
       "      <th></th>\n",
       "      <th></th>\n",
       "    </tr>\n",
       "  </thead>\n",
       "  <tbody>\n",
       "    <tr>\n",
       "      <th>row_0</th>\n",
       "      <td>20</td>\n",
       "      <td>[{\"name\": \"mich\", \"age\": 20}, {\"name\": \"jean\",...</td>\n",
       "      <td>bill</td>\n",
       "    </tr>\n",
       "  </tbody>\n",
       "</table>\n",
       "</div>"
      ],
      "text/plain": [
       "          age                                            friends  name\n",
       "_rowName                                                              \n",
       "row_0      20  [{\"name\": \"mich\", \"age\": 20}, {\"name\": \"jean\",...  bill"
      ]
     },
     "execution_count": 6,
     "metadata": {},
     "output_type": "execute_result"
    }
   ],
   "source": [
    "mldb.query(\"\"\"\n",
    "    SELECT * FROM melt_proc\n",
    "\"\"\")"
   ]
  },
  {
   "cell_type": "markdown",
   "metadata": {
    "collapsed": true
   },
   "source": [
    "We may want to perform operations on the contents of the JSON object in the friends column. To do so, we can perform a melt operation on the output of the `parse_json()` function.\n",
    "\n",
    "To break it down, let's look at the output of the `parse_json()` function:"
   ]
  },
  {
   "cell_type": "code",
   "execution_count": 22,
   "metadata": {
    "collapsed": false
   },
   "outputs": [
    {
     "data": {
      "text/html": [
       "<div>\n",
       "<table border=\"1\" class=\"dataframe\">\n",
       "  <thead>\n",
       "    <tr style=\"text-align: right;\">\n",
       "      <th></th>\n",
       "      <th>0</th>\n",
       "      <th>1</th>\n",
       "    </tr>\n",
       "    <tr>\n",
       "      <th>_rowName</th>\n",
       "      <th></th>\n",
       "      <th></th>\n",
       "    </tr>\n",
       "  </thead>\n",
       "  <tbody>\n",
       "    <tr>\n",
       "      <th>row_0</th>\n",
       "      <td>{\"age\":20,\"name\":\"mich\"}</td>\n",
       "      <td>{\"age\":18,\"name\":\"jean\"}</td>\n",
       "    </tr>\n",
       "  </tbody>\n",
       "</table>\n",
       "</div>"
      ],
      "text/plain": [
       "                                 0                         1\n",
       "_rowName                                                    \n",
       "row_0     {\"age\":20,\"name\":\"mich\"}  {\"age\":18,\"name\":\"jean\"}"
      ]
     },
     "execution_count": 22,
     "metadata": {},
     "output_type": "execute_result"
    }
   ],
   "source": [
    "mldb.query(\"select parse_json(friends, {arrays: 'encode'}) as * from melt_proc\")"
   ]
  },
  {
   "cell_type": "markdown",
   "metadata": {},
   "source": [
    "We can now run the `melt` procedure like this:"
   ]
  },
  {
   "cell_type": "code",
   "execution_count": 31,
   "metadata": {
    "collapsed": false
   },
   "outputs": [
    {
     "name": "stdout",
     "output_type": "stream",
     "text": [
      "<Response [201]>\n"
     ]
    }
   ],
   "source": [
    "print mldb.post(\"/v1/procedures\", {\n",
    "    \"type\": \"melt\",\n",
    "    \"params\": {\n",
    "        \"inputData\": \"\"\"\n",
    "                    SELECT {name, age} as to_fix,\n",
    "                           {friends*} as to_melt\n",
    "                    FROM (\n",
    "                        SELECT name, age, parse_json(friends, {arrays: 'encode'}) AS friends from melt_proc\n",
    "                    )\"\"\",\n",
    "        \"outputDataset\": \"melted_data\",\n",
    "        \"runOnCreation\": True\n",
    "    }\n",
    "})"
   ]
  },
  {
   "cell_type": "markdown",
   "metadata": {},
   "source": [
    "The melted dataset will look like this:"
   ]
  },
  {
   "cell_type": "code",
   "execution_count": 32,
   "metadata": {
    "collapsed": false
   },
   "outputs": [
    {
     "data": {
      "text/html": [
       "<div>\n",
       "<table border=\"1\" class=\"dataframe\">\n",
       "  <thead>\n",
       "    <tr style=\"text-align: right;\">\n",
       "      <th></th>\n",
       "      <th>age</th>\n",
       "      <th>key</th>\n",
       "      <th>name</th>\n",
       "      <th>value</th>\n",
       "    </tr>\n",
       "    <tr>\n",
       "      <th>_rowName</th>\n",
       "      <th></th>\n",
       "      <th></th>\n",
       "      <th></th>\n",
       "      <th></th>\n",
       "    </tr>\n",
       "  </thead>\n",
       "  <tbody>\n",
       "    <tr>\n",
       "      <th>row_0.friends.1</th>\n",
       "      <td>20</td>\n",
       "      <td>friends.1</td>\n",
       "      <td>bill</td>\n",
       "      <td>{\"age\":18,\"name\":\"jean\"}</td>\n",
       "    </tr>\n",
       "    <tr>\n",
       "      <th>row_0.friends.0</th>\n",
       "      <td>20</td>\n",
       "      <td>friends.0</td>\n",
       "      <td>bill</td>\n",
       "      <td>{\"age\":20,\"name\":\"mich\"}</td>\n",
       "    </tr>\n",
       "  </tbody>\n",
       "</table>\n",
       "</div>"
      ],
      "text/plain": [
       "                 age        key  name                     value\n",
       "_rowName                                                       \n",
       "row_0.friends.1   20  friends.1  bill  {\"age\":18,\"name\":\"jean\"}\n",
       "row_0.friends.0   20  friends.0  bill  {\"age\":20,\"name\":\"mich\"}"
      ]
     },
     "execution_count": 32,
     "metadata": {},
     "output_type": "execute_result"
    }
   ],
   "source": [
    "mldb.query(\"select * from melted_data\")"
   ]
  },
  {
   "cell_type": "markdown",
   "metadata": {},
   "source": [
    "## Example with bags of words"
   ]
  },
  {
   "cell_type": "code",
   "execution_count": 29,
   "metadata": {
    "collapsed": false
   },
   "outputs": [
    {
     "data": {
      "text/html": [
       "<strong>POST http://localhost/v1/datasets/melt_proc_bow/commit</strong><br /><strong style=\"color: green;\">200 OK</strong><br /> "
      ],
      "text/plain": [
       "<Response [200]>"
      ]
     },
     "execution_count": 29,
     "metadata": {},
     "output_type": "execute_result"
    }
   ],
   "source": [
    "mldb.put('/v1/datasets/melt_proc_bow', { \"type\":\"sparse.mutable\" })\n",
    "\n",
    "mldb.post('/v1/datasets/melt_proc_bow/rows', {\n",
    "    \"rowName\": \"row1\",\n",
    "    \"columns\": [\n",
    "        [\"text\", \"hello my friend\", 0]\n",
    "    ]\n",
    "})\n",
    "mldb.post('/v1/datasets/melt_proc_bow/rows', {\n",
    "    \"rowName\": \"row2\",\n",
    "    \"columns\": [\n",
    "        [\"text\", \"hello it's me\", 0]\n",
    "    ]\n",
    "})\n",
    "\n",
    "mldb.post(\"/v1/datasets/melt_proc_bow/commit\")"
   ]
  },
  {
   "cell_type": "markdown",
   "metadata": {},
   "source": [
    "Our dataset looks like this:"
   ]
  },
  {
   "cell_type": "code",
   "execution_count": 30,
   "metadata": {
    "collapsed": false
   },
   "outputs": [
    {
     "data": {
      "text/html": [
       "<div>\n",
       "<table border=\"1\" class=\"dataframe\">\n",
       "  <thead>\n",
       "    <tr style=\"text-align: right;\">\n",
       "      <th></th>\n",
       "      <th>text</th>\n",
       "    </tr>\n",
       "    <tr>\n",
       "      <th>_rowName</th>\n",
       "      <th></th>\n",
       "    </tr>\n",
       "  </thead>\n",
       "  <tbody>\n",
       "    <tr>\n",
       "      <th>row2</th>\n",
       "      <td>hello it's me</td>\n",
       "    </tr>\n",
       "    <tr>\n",
       "      <th>row1</th>\n",
       "      <td>hello my friend</td>\n",
       "    </tr>\n",
       "  </tbody>\n",
       "</table>\n",
       "</div>"
      ],
      "text/plain": [
       "                     text\n",
       "_rowName                 \n",
       "row2        hello it's me\n",
       "row1      hello my friend"
      ]
     },
     "execution_count": 30,
     "metadata": {},
     "output_type": "execute_result"
    }
   ],
   "source": [
    "mldb.query(\"SELECT * FROM melt_proc_bow\")"
   ]
  },
  {
   "cell_type": "markdown",
   "metadata": {},
   "source": [
    "By running a `melt` procedure and using the `tokenize` function on the text, we can obtain a new dataset with one row per *(rowName, word)* pair:"
   ]
  },
  {
   "cell_type": "code",
   "execution_count": 35,
   "metadata": {
    "collapsed": false
   },
   "outputs": [
    {
     "name": "stdout",
     "output_type": "stream",
     "text": [
      "<Response [201]>\n"
     ]
    }
   ],
   "source": [
    "print mldb.post(\"/v1/procedures\", {\n",
    "    \"type\": \"melt\",\n",
    "    \"params\": {\n",
    "        \"inputData\": \"\"\"\n",
    "            SELECT {rowName() as rowName} as to_fix,\n",
    "                   {tokenize(text, {splitchars: ' '}) as *} as to_melt\n",
    "            FROM melt_proc_bow\n",
    "        \"\"\",\n",
    "        \"outputDataset\": \"melted_data_bow\",\n",
    "        \"runOnCreation\": True\n",
    "    }\n",
    "})"
   ]
  },
  {
   "cell_type": "markdown",
   "metadata": {},
   "source": [
    "This gives us the following dataset:"
   ]
  },
  {
   "cell_type": "code",
   "execution_count": 36,
   "metadata": {
    "collapsed": false
   },
   "outputs": [
    {
     "data": {
      "text/html": [
       "<div>\n",
       "<table border=\"1\" class=\"dataframe\">\n",
       "  <thead>\n",
       "    <tr style=\"text-align: right;\">\n",
       "      <th></th>\n",
       "      <th>key</th>\n",
       "      <th>rowName</th>\n",
       "      <th>value</th>\n",
       "    </tr>\n",
       "    <tr>\n",
       "      <th>_rowName</th>\n",
       "      <th></th>\n",
       "      <th></th>\n",
       "      <th></th>\n",
       "    </tr>\n",
       "  </thead>\n",
       "  <tbody>\n",
       "    <tr>\n",
       "      <th>row2.me</th>\n",
       "      <td>me</td>\n",
       "      <td>row2</td>\n",
       "      <td>1</td>\n",
       "    </tr>\n",
       "    <tr>\n",
       "      <th>row2.hello</th>\n",
       "      <td>hello</td>\n",
       "      <td>row2</td>\n",
       "      <td>1</td>\n",
       "    </tr>\n",
       "    <tr>\n",
       "      <th>row1.my</th>\n",
       "      <td>my</td>\n",
       "      <td>row1</td>\n",
       "      <td>1</td>\n",
       "    </tr>\n",
       "    <tr>\n",
       "      <th>row1.friend</th>\n",
       "      <td>friend</td>\n",
       "      <td>row1</td>\n",
       "      <td>1</td>\n",
       "    </tr>\n",
       "    <tr>\n",
       "      <th>row1.hello</th>\n",
       "      <td>hello</td>\n",
       "      <td>row1</td>\n",
       "      <td>1</td>\n",
       "    </tr>\n",
       "    <tr>\n",
       "      <th>row2.it's</th>\n",
       "      <td>it's</td>\n",
       "      <td>row2</td>\n",
       "      <td>1</td>\n",
       "    </tr>\n",
       "  </tbody>\n",
       "</table>\n",
       "</div>"
      ],
      "text/plain": [
       "                key rowName  value\n",
       "_rowName                          \n",
       "row2.me          me    row2      1\n",
       "row2.hello    hello    row2      1\n",
       "row1.my          my    row1      1\n",
       "row1.friend  friend    row1      1\n",
       "row1.hello    hello    row1      1\n",
       "row2.it's      it's    row2      1"
      ]
     },
     "execution_count": 36,
     "metadata": {},
     "output_type": "execute_result"
    }
   ],
   "source": [
    "mldb.query(\"SELECT * FROM melted_data_bow\")"
   ]
  },
  {
   "cell_type": "code",
   "execution_count": null,
   "metadata": {
    "collapsed": true
   },
   "outputs": [],
   "source": []
  }
 ],
 "metadata": {
  "kernelspec": {
   "display_name": "Python 2",
   "language": "python",
   "name": "python2"
  },
  "language_info": {
   "codemirror_mode": {
    "name": "ipython",
    "version": 2
   },
   "file_extension": ".py",
   "mimetype": "text/x-python",
   "name": "python",
   "nbconvert_exporter": "python",
   "pygments_lexer": "ipython2",
   "version": "2.7.6"
  }
 },
 "nbformat": 4,
 "nbformat_minor": 0
}
